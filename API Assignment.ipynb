{
 "cells": [
  {
   "cell_type": "code",
   "execution_count": null,
   "id": "7efa1a64-33d8-4ae4-bec0-be15437c11f1",
   "metadata": {},
   "outputs": [],
   "source": [
    "Q.1"
   ]
  },
  {
   "cell_type": "code",
   "execution_count": null,
   "id": "d09d61ae-621a-46b8-9e1c-240addbd01aa",
   "metadata": {},
   "outputs": [],
   "source": [
    "API are mechansisms that enable two software components to communicate with \n",
    "each other using a set of definitions and protocol."
   ]
  },
  {
   "cell_type": "code",
   "execution_count": null,
   "id": "045becf6-683c-4eaf-a6f2-a0d33ac28d2c",
   "metadata": {},
   "outputs": [],
   "source": [
    "1) Twittwer API:-\n",
    "                 Twitter offers a wide variety af APIs that developers can use to build applications that\n",
    "interact with twitter As one of the most popular social media plat for, twitter is a great destination for\n",
    "business wanting to advertise their product & services."
   ]
  },
  {
   "cell_type": "code",
   "execution_count": null,
   "id": "fe560c16-8310-4263-90a7-279a7a6eb8ea",
   "metadata": {},
   "outputs": [],
   "source": [
    "2) Chat GPT API :-\n",
    "                  What sets chat GPT apart from other chathboth is its ability to engage in highly\n",
    "realistic, human like conversations."
   ]
  },
  {
   "cell_type": "code",
   "execution_count": null,
   "id": "a7ded6ca-a168-466d-9055-da295c838bb9",
   "metadata": {},
   "outputs": [],
   "source": [
    "3) Google Map API:-\n",
    "                   The Google Maps API is a web- based services provided by google that allows developers \n",
    "to enbed maps into their web pages or applications to use the Google Maps API, developer, need to authenicate\n",
    "themselves by obtaining an API key."
   ]
  },
  {
   "cell_type": "code",
   "execution_count": null,
   "id": "63714bd7-37a4-4b09-b3c1-207c49b417e2",
   "metadata": {},
   "outputs": [],
   "source": [
    "4) Gt Hub API:-\n",
    "            Git hub API is a set to tools that allows developers to interact with Git Hub programmatically\n",
    "This means that developers can use code to perfom various tasks on Git Hub, such as creating, reading, updating & \n",
    "deleting, repositories, files and issues."
   ]
  },
  {
   "cell_type": "code",
   "execution_count": null,
   "id": "d05aa9f6-a008-47d3-b783-9611accf2415",
   "metadata": {},
   "outputs": [],
   "source": [
    "Q.2"
   ]
  },
  {
   "cell_type": "code",
   "execution_count": null,
   "id": "d020a8e2-69cf-4b63-9af5-44f9a32d59bf",
   "metadata": {},
   "outputs": [],
   "source": [
    "1) Advantages of API:-\n",
    "                      Transform your processes, remove data silos, avoid mundane, repetitive tasks, improve the customers exprences\n",
    "keep employees engaged."
   ]
  },
  {
   "cell_type": "code",
   "execution_count": null,
   "id": "e75ba785-7b75-45d5-bfe4-6e886e3f35a3",
   "metadata": {},
   "outputs": [],
   "source": [
    "2) Disadvantages of API:-\n",
    "                           Drawbacks of using API Gateways.\n",
    "\n",
    "Performances degradation is a concern due to the multitude od scenarios that the API Gateway\n",
    "will handle & can impact the speed and relibility of your application.      "
   ]
  },
  {
   "cell_type": "code",
   "execution_count": null,
   "id": "d4c9bafa-6233-48ab-93e8-46c3224e2eaa",
   "metadata": {},
   "outputs": [],
   "source": [
    "Q.3"
   ]
  },
  {
   "cell_type": "code",
   "execution_count": null,
   "id": "1bbe0abb-c812-4373-af85-dfc85c257fbe",
   "metadata": {},
   "outputs": [],
   "source": [
    "API:- Application Programming Interface.\n",
    "\n",
    "A Web API is an Application programming interface for the web."
   ]
  },
  {
   "cell_type": "code",
   "execution_count": null,
   "id": "8c0db4ff-ae58-409e-81a6-c5d0e602662a",
   "metadata": {},
   "outputs": [],
   "source": [
    "Difference Between API & Web API:-"
   ]
  },
  {
   "cell_type": "code",
   "execution_count": null,
   "id": "f17851b2-42dc-4078-96f7-0f8363f4422d",
   "metadata": {},
   "outputs": [],
   "source": [
    "Web API :-\n",
    "\n",
    "1) Network required to connect software application\n",
    "\n",
    "2) Only avalible to approved users providing greater\n",
    "control over data acess how to services is used & its\n",
    "Function.\n",
    "\n",
    "3) Not a lightweight architecture as it most commonly\n",
    "follows the SOAP protocol & is code heavy.\n",
    "\n",
    "4)Data transfer via XML only.\n",
    "\n",
    "5) HTT only"
   ]
  },
  {
   "cell_type": "code",
   "execution_count": null,
   "id": "dc933a47-411e-4e17-82c0-6094cc73374c",
   "metadata": {},
   "outputs": [],
   "source": [
    "API:-\n",
    "\n",
    "1) Does not require a notebook to connect software applicatiion\n",
    "\n",
    "2) Many types of APIs allowing a varied range of control\n",
    "from limited oversight to strics acess requirements\n",
    "\n",
    "3) Lightweight architecture options across varied protovol\n",
    "\n",
    "4) Data transfervia XML or JSON\n",
    "\n",
    "5)HTTP or HTTPS"
   ]
  },
  {
   "cell_type": "code",
   "execution_count": null,
   "id": "eb03c10d-36fa-44ce-a4e6-be28637d2b78",
   "metadata": {},
   "outputs": [],
   "source": [
    "Q.4"
   ]
  },
  {
   "cell_type": "code",
   "execution_count": null,
   "id": "d413cc1f-82e0-456d-84b7-8b072ca928a8",
   "metadata": {},
   "outputs": [],
   "source": [
    "1) SOAP:- \n",
    "          Web services architure is based on interaction between three components a services\n",
    "privider, a services requesters, & an optional services registry."
   ]
  },
  {
   "cell_type": "code",
   "execution_count": null,
   "id": "7c0c82dc-ba40-4e47-9b35-7a8a4bdbdf45",
   "metadata": {},
   "outputs": [],
   "source": [
    "2) REST:-\n",
    "         statelessness, uniform interface, resources based archtecture, self descriptive messages\n",
    "and hypermedia as the engine of application state ( HATEOAS )."
   ]
  },
  {
   "cell_type": "code",
   "execution_count": null,
   "id": "403c608d-8aaf-4e93-aa39-bfcb4159f5fd",
   "metadata": {},
   "outputs": [],
   "source": [
    "Q.5"
   ]
  },
  {
   "cell_type": "code",
   "execution_count": null,
   "id": "5961d5f6-0de6-42db-939c-8cbf8e8b82f6",
   "metadata": {},
   "outputs": [],
   "source": [
    "REST:-\n",
    "\n",
    "1) An architectural style protocol.\n",
    "\n",
    "2) Uses XML or JSON to send & receive data\n",
    "\n",
    "3) Simply calls services via URL path\n",
    "\n",
    "4) Result is readable which is just plan\n",
    "XML or JSON\n",
    "\n",
    "5) Transfer is over HTTP only\n",
    "\n",
    "6) Easy to call from java script\n",
    "\n",
    "7) Performances is much better compared to SOAP\n",
    "less CPU intersive, Leaner code etc."
   ]
  },
  {
   "cell_type": "code",
   "execution_count": null,
   "id": "f16c85f1-32c3-49cf-bc70-075ad2c682f6",
   "metadata": {},
   "outputs": [],
   "source": [
    "SOAP:-\n",
    "\n",
    "1) AXML based message protocol\n",
    "\n",
    "2) Uses WSDL for communication between consumer and provider\n",
    "\n",
    "3) Invokes services by calling RPC method\n",
    "\n",
    "4) Does not return human readable result\n",
    "\n",
    "5) Transfer is over HTTP also uses other protocol\n",
    "such as SMTP, FTP etc.\n",
    "\n",
    "6) Javascripts can call SOAP, but\n",
    "\n"
   ]
  }
 ],
 "metadata": {
  "kernelspec": {
   "display_name": "Python 3 (ipykernel)",
   "language": "python",
   "name": "python3"
  },
  "language_info": {
   "codemirror_mode": {
    "name": "ipython",
    "version": 3
   },
   "file_extension": ".py",
   "mimetype": "text/x-python",
   "name": "python",
   "nbconvert_exporter": "python",
   "pygments_lexer": "ipython3",
   "version": "3.10.8"
  }
 },
 "nbformat": 4,
 "nbformat_minor": 5
}
